{
 "cells": [
  {
   "cell_type": "code",
   "execution_count": 1,
   "metadata": {},
   "outputs": [],
   "source": [
    "from transformers import BertTokenizer, BertModel\n",
    "import numpy as np\n",
    "import torch"
   ]
  },
  {
   "cell_type": "code",
   "execution_count": 2,
   "metadata": {},
   "outputs": [
    {
     "name": "stdout",
     "output_type": "stream",
     "text": [
      "Using device: cuda\n"
     ]
    }
   ],
   "source": [
    "device = torch.device(\"cuda\" if torch.cuda.is_available() else \"cpu\")\n",
    "print(f\"Using device: {device}\")"
   ]
  },
  {
   "cell_type": "code",
   "execution_count": 5,
   "metadata": {},
   "outputs": [],
   "source": [
    "# Load pre-trained model and tokenizer\n",
    "model_name = \"bert-base-uncased\"\n",
    "tokenizer = BertTokenizer.from_pretrained(model_name)\n",
    "model = BertModel.from_pretrained(model_name).to(device)"
   ]
  },
  {
   "cell_type": "code",
   "execution_count": 6,
   "metadata": {},
   "outputs": [],
   "source": [
    "# Load the preprocessed SQuAD data\n",
    "import json\n",
    "with open(\"../cleaned_squad_data.json\", \"r\", encoding=\"utf-8\") as file:\n",
    "    squad_data = json.load(file)"
   ]
  },
  {
   "cell_type": "code",
   "execution_count": 7,
   "metadata": {},
   "outputs": [],
   "source": [
    "batch_size = 8\n",
    "\n",
    "def generate_embeddings(text_list):\n",
    "    embeddings = []\n",
    "    for i in range(0, len(text_list), batch_size):\n",
    "        batch_texts = text_list[i:i+batch_size]\n",
    "        inputs = tokenizer(batch_texts, padding=True, truncation=True, return_tensors=\"pt\").to(device)\n",
    "        with torch.no_grad():\n",
    "            outputs = model(**inputs)\n",
    "        batch_embeddings = outputs.last_hidden_state.mean(dim=1).cpu().numpy()\n",
    "        embeddings.extend(batch_embeddings)\n",
    "    return np.array(embeddings)"
   ]
  },
  {
   "cell_type": "code",
   "execution_count": 8,
   "metadata": {},
   "outputs": [],
   "source": [
    "# Extract contexts and questions\n",
    "contexts = [item[\"context\"] for item in squad_data[:5000]]\n",
    "questions = [item[\"question\"] for item in squad_data[:5000]]"
   ]
  },
  {
   "cell_type": "code",
   "execution_count": 7,
   "metadata": {},
   "outputs": [
    {
     "name": "stderr",
     "output_type": "stream",
     "text": [
      "c:\\Users\\HP\\anaconda3\\Lib\\site-packages\\transformers\\models\\bert\\modeling_bert.py:439: UserWarning: 1Torch was not compiled with flash attention. (Triggered internally at ..\\aten\\src\\ATen\\native\\transformers\\cuda\\sdp_utils.cpp:455.)\n",
      "  attn_output = torch.nn.functional.scaled_dot_product_attention(\n"
     ]
    },
    {
     "ename": "KeyboardInterrupt",
     "evalue": "",
     "output_type": "error",
     "traceback": [
      "\u001b[1;31m---------------------------------------------------------------------------\u001b[0m",
      "\u001b[1;31mKeyboardInterrupt\u001b[0m                         Traceback (most recent call last)",
      "Cell \u001b[1;32mIn[7], line 2\u001b[0m\n\u001b[0;32m      1\u001b[0m \u001b[38;5;66;03m# Generate embeddings\u001b[39;00m\n\u001b[1;32m----> 2\u001b[0m context_embeddings \u001b[38;5;241m=\u001b[39m generate_embeddings(contexts)\n\u001b[0;32m      3\u001b[0m question_embeddings \u001b[38;5;241m=\u001b[39m generate_embeddings(questions)\n\u001b[0;32m      5\u001b[0m \u001b[38;5;66;03m# Save the embeddings\u001b[39;00m\n\u001b[0;32m      6\u001b[0m \u001b[38;5;66;03m# import numpy as np\u001b[39;00m\n",
      "Cell \u001b[1;32mIn[5], line 10\u001b[0m, in \u001b[0;36mgenerate_embeddings\u001b[1;34m(text_list)\u001b[0m\n\u001b[0;32m      8\u001b[0m     \u001b[38;5;28;01mwith\u001b[39;00m torch\u001b[38;5;241m.\u001b[39mno_grad():\n\u001b[0;32m      9\u001b[0m         outputs \u001b[38;5;241m=\u001b[39m model(\u001b[38;5;241m*\u001b[39m\u001b[38;5;241m*\u001b[39minputs)\n\u001b[1;32m---> 10\u001b[0m     batch_embeddings \u001b[38;5;241m=\u001b[39m outputs\u001b[38;5;241m.\u001b[39mlast_hidden_state\u001b[38;5;241m.\u001b[39mmean(dim\u001b[38;5;241m=\u001b[39m\u001b[38;5;241m1\u001b[39m)\u001b[38;5;241m.\u001b[39mcpu()\u001b[38;5;241m.\u001b[39mnumpy()\n\u001b[0;32m     11\u001b[0m     embeddings\u001b[38;5;241m.\u001b[39mextend(batch_embeddings)\n\u001b[0;32m     12\u001b[0m \u001b[38;5;28;01mreturn\u001b[39;00m np\u001b[38;5;241m.\u001b[39marray(embeddings)\n",
      "\u001b[1;31mKeyboardInterrupt\u001b[0m: "
     ]
    }
   ],
   "source": [
    "# Generate embeddings\n",
    "context_embeddings = generate_embeddings(contexts)\n",
    "question_embeddings = generate_embeddings(questions)\n",
    "\n",
    "# Save the embeddings\n",
    "# import numpy as np\n",
    "np.save(\"context_embeddings.npy\", context_embeddings)\n",
    "np.save(\"question_embeddings.npy\", question_embeddings)\n",
    "\n",
    "print(\"Context Embeddings:\", context_embeddings.shape)\n",
    "print(\"Question Embeddings:\", question_embeddings.shape)\n"
   ]
  },
  {
   "cell_type": "code",
   "execution_count": null,
   "metadata": {},
   "outputs": [
    {
     "name": "stdout",
     "output_type": "stream",
     "text": [
      "[[-0.2642473  -0.23228052  0.28082693 ...  0.11196642  0.01162038\n",
      "  -0.2506955 ]\n",
      " [-0.2642473  -0.23228052  0.28082693 ...  0.11196642  0.01162038\n",
      "  -0.2506955 ]\n",
      " [-0.2642473  -0.23228052  0.28082693 ...  0.11196642  0.01162038\n",
      "  -0.2506955 ]\n",
      " ...\n",
      " [ 0.123763    0.12276594 -0.08655506 ...  0.18965627  0.00387318\n",
      "   0.33899373]\n",
      " [ 0.123763    0.12276594 -0.08655506 ...  0.18965627  0.00387318\n",
      "   0.33899373]\n",
      " [ 0.123763    0.12276594 -0.08655506 ...  0.18965627  0.00387318\n",
      "   0.33899373]]\n"
     ]
    }
   ],
   "source": [
    "data = np.load('context_embeddings.npy') \n",
    " \n",
    "# Now you can use the 'data' variable to access the contents of the .npy file \n",
    "print(data) "
   ]
  },
  {
   "cell_type": "code",
   "execution_count": 9,
   "metadata": {},
   "outputs": [],
   "source": [
    "from sentence_transformers import SentenceTransformer\n",
    "sentences = [\"This is an example sentence\", \"Each sentence is converted\"]\n",
    "\n",
    "model = SentenceTransformer('sentence-transformers/sentence-t5-base')\n",
    "# embeddings = model.encode(sentences)\n",
    "\n"
   ]
  },
  {
   "cell_type": "code",
   "execution_count": 11,
   "metadata": {},
   "outputs": [],
   "source": [
    "def generate_sbert_embeddings(model, texts, batch_size=32):\n",
    "    embeddings = []\n",
    "    for start_idx in range(0, len(texts), batch_size):\n",
    "        end_idx = min(start_idx + batch_size, len(texts))\n",
    "        batch_texts = texts[start_idx:end_idx]\n",
    "        batch_embeddings = model.encode(batch_texts, convert_to_tensor=True, device=device)\n",
    "        embeddings.append(batch_embeddings)\n",
    "    return torch.cat(embeddings).cpu().numpy()"
   ]
  },
  {
   "cell_type": "code",
   "execution_count": 12,
   "metadata": {},
   "outputs": [
    {
     "name": "stdout",
     "output_type": "stream",
     "text": [
      "Context Embeddings: (5000, 768)\n",
      "Question Embeddings: (5000, 768)\n"
     ]
    }
   ],
   "source": [
    "# Generate embeddings\n",
    "context_embeddings = generate_sbert_embeddings(model, contexts)\n",
    "question_embeddings = generate_sbert_embeddings(model, questions)\n",
    "\n",
    "# Save the embeddings\n",
    "# import numpy as np\n",
    "np.save(\"context_embeddings_sbert.npy\", context_embeddings)\n",
    "np.save(\"question_embeddings_sbert.npy\", question_embeddings)\n",
    "\n",
    "print(\"Context Embeddings:\", context_embeddings.shape)\n",
    "print(\"Question Embeddings:\", question_embeddings.shape)"
   ]
  },
  {
   "cell_type": "code",
   "execution_count": 13,
   "metadata": {},
   "outputs": [
    {
     "name": "stdout",
     "output_type": "stream",
     "text": [
      "[[-0.02565339 -0.02768765  0.03099243 ... -0.023538   -0.02609218\n",
      "  -0.03554582]\n",
      " [-0.02565339 -0.02768765  0.03099243 ... -0.023538   -0.02609218\n",
      "  -0.03554582]\n",
      " [-0.02565339 -0.02768765  0.03099243 ... -0.023538   -0.02609218\n",
      "  -0.03554582]\n",
      " ...\n",
      " [-0.00315945 -0.04531334  0.016718   ... -0.00831344 -0.0091006\n",
      "  -0.00221333]\n",
      " [-0.00315945 -0.04531334  0.016718   ... -0.00831344 -0.0091006\n",
      "  -0.00221333]\n",
      " [-0.00315945 -0.04531334  0.016718   ... -0.00831344 -0.0091006\n",
      "  -0.00221333]]\n"
     ]
    }
   ],
   "source": [
    "data = np.load('context_embeddings_sbert.npy') \n",
    " \n",
    "# Now you can use the 'data' variable to access the contents of the .npy file \n",
    "print(data) "
   ]
  }
 ],
 "metadata": {
  "kernelspec": {
   "display_name": "Python 3",
   "language": "python",
   "name": "python3"
  },
  "language_info": {
   "codemirror_mode": {
    "name": "ipython",
    "version": 3
   },
   "file_extension": ".py",
   "mimetype": "text/x-python",
   "name": "python",
   "nbconvert_exporter": "python",
   "pygments_lexer": "ipython3",
   "version": "3.12.0"
  }
 },
 "nbformat": 4,
 "nbformat_minor": 2
}

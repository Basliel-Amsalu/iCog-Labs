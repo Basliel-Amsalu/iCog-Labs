{
 "cells": [
  {
   "cell_type": "code",
   "execution_count": 1,
   "metadata": {},
   "outputs": [],
   "source": [
    "import json"
   ]
  },
  {
   "cell_type": "code",
   "execution_count": 2,
   "metadata": {},
   "outputs": [
    {
     "name": "stdout",
     "output_type": "stream",
     "text": [
      "{\n",
      "  \"version\": \"v2.0\",\n",
      "  \"data\": [\n",
      "    {\n",
      "      \"title\": \"Beyonc\\u00e9\",\n",
      "      \"paragraphs\": [\n",
      "        {\n",
      "          \"qas\": [\n",
      "            {\n",
      "              \"question\": \"When did Beyonce start becoming popular?\",\n",
      "              \"id\": \"56be85543aeaaa14008c9063\",\n",
      "              \"answers\": [\n",
      "                {\n",
      "                  \"text\": \"in the late 1990s\",\n",
      "                  \"answer_start\": 269\n",
      "                }\n",
      "              ],\n",
      "              \"is_impossible\": false\n",
      "            },\n",
      "            {\n",
      "              \"question\": \"What areas did Beyonce compete in when she was growing up?\",\n",
      "              \"id\": \"56be85543aeaaa14008c9065\",\n",
      "              \"answers\": [\n",
      "                {\n",
      "                  \"text\": \"singing and dancing\",\n",
      "                  \"answer_start\": 207\n",
      "                }\n",
      "              ],\n",
      "              \"is_impossible\": false\n",
      "            },\n",
      "            {\n",
      "              \"question\": \"When did Beyonce leave Destiny's Child and become a solo singer?\",\n",
      "              \"id\": \"56be85543aeaaa14008c9066\",\n",
      "   \n"
     ]
    }
   ],
   "source": [
    "with open(\"train-v2.0.json\", \"r\") as file:\n",
    "    squad_data = json.load(file)\n",
    "\n",
    "# Inspect the structure\n",
    "print(json.dumps(squad_data, indent=2)[:1000])"
   ]
  },
  {
   "cell_type": "code",
   "execution_count": 3,
   "metadata": {},
   "outputs": [
    {
     "name": "stdout",
     "output_type": "stream",
     "text": [
      "[{'context': 'Beyoncé Giselle Knowles-Carter (/biːˈjɒnseɪ/ bee-YON-say) (born September 4, 1981) is an American singer, songwriter, record producer and actress. Born and raised in Houston, Texas, she performed in various singing and dancing competitions as a child, and rose to fame in the late 1990s as lead singer of R&B girl-group Destiny\\'s Child. Managed by her father, Mathew Knowles, the group became one of the world\\'s best-selling girl groups of all time. Their hiatus saw the release of Beyoncé\\'s debut album, Dangerously in Love (2003), which established her as a solo artist worldwide, earned five Grammy Awards and featured the Billboard Hot 100 number-one singles \"Crazy in Love\" and \"Baby Boy\".', 'question': 'When did Beyonce start becoming popular?', 'answer': 'in the late 1990s'}, {'context': 'Beyoncé Giselle Knowles-Carter (/biːˈjɒnseɪ/ bee-YON-say) (born September 4, 1981) is an American singer, songwriter, record producer and actress. Born and raised in Houston, Texas, she performed in various singing and dancing competitions as a child, and rose to fame in the late 1990s as lead singer of R&B girl-group Destiny\\'s Child. Managed by her father, Mathew Knowles, the group became one of the world\\'s best-selling girl groups of all time. Their hiatus saw the release of Beyoncé\\'s debut album, Dangerously in Love (2003), which established her as a solo artist worldwide, earned five Grammy Awards and featured the Billboard Hot 100 number-one singles \"Crazy in Love\" and \"Baby Boy\".', 'question': 'What areas did Beyonce compete in when she was growing up?', 'answer': 'singing and dancing'}, {'context': 'Beyoncé Giselle Knowles-Carter (/biːˈjɒnseɪ/ bee-YON-say) (born September 4, 1981) is an American singer, songwriter, record producer and actress. Born and raised in Houston, Texas, she performed in various singing and dancing competitions as a child, and rose to fame in the late 1990s as lead singer of R&B girl-group Destiny\\'s Child. Managed by her father, Mathew Knowles, the group became one of the world\\'s best-selling girl groups of all time. Their hiatus saw the release of Beyoncé\\'s debut album, Dangerously in Love (2003), which established her as a solo artist worldwide, earned five Grammy Awards and featured the Billboard Hot 100 number-one singles \"Crazy in Love\" and \"Baby Boy\".', 'question': \"When did Beyonce leave Destiny's Child and become a solo singer?\", 'answer': '2003'}]\n"
     ]
    }
   ],
   "source": [
    "def extract_data(squad_data):\n",
    "    data = []\n",
    "    for article in squad_data[\"data\"]:\n",
    "        for paragraph in article[\"paragraphs\"]:\n",
    "            context = paragraph[\"context\"]\n",
    "            for qa in paragraph[\"qas\"]:\n",
    "                question = qa[\"question\"]\n",
    "                if \"is_impossible\" in qa and qa[\"is_impossible\"]:\n",
    "                    continue\n",
    "                for answer in qa[\"answers\"]:\n",
    "                    data.append({\n",
    "                        \"context\": context,\n",
    "                        \"question\": question,\n",
    "                        \"answer\": answer[\"text\"]\n",
    "                    })\n",
    "    return data\n",
    "\n",
    "train_data = extract_data(squad_data)\n",
    "print(train_data[:3])"
   ]
  },
  {
   "cell_type": "code",
   "execution_count": 4,
   "metadata": {},
   "outputs": [
    {
     "name": "stdout",
     "output_type": "stream",
     "text": [
      "[{'context': 'beyoncé giselle knowles-carter (/biːˈjɒnseɪ/ bee-yon-say) (born september 4, 1981) is an american singer, songwriter, record producer and actress. born and raised in houston, texas, she performed in various singing and dancing competitions as a child, and rose to fame in the late 1990s as lead singer of r&b girl-group destiny\\'s child. managed by her father, mathew knowles, the group became one of the world\\'s best-selling girl groups of all time. their hiatus saw the release of beyoncé\\'s debut album, dangerously in love (2003), which established her as a solo artist worldwide, earned five grammy awards and featured the billboard hot 100 number-one singles \"crazy in love\" and \"baby boy\".', 'question': 'when did beyonce start becoming popular?', 'answer': 'in the late 1990s'}, {'context': 'beyoncé giselle knowles-carter (/biːˈjɒnseɪ/ bee-yon-say) (born september 4, 1981) is an american singer, songwriter, record producer and actress. born and raised in houston, texas, she performed in various singing and dancing competitions as a child, and rose to fame in the late 1990s as lead singer of r&b girl-group destiny\\'s child. managed by her father, mathew knowles, the group became one of the world\\'s best-selling girl groups of all time. their hiatus saw the release of beyoncé\\'s debut album, dangerously in love (2003), which established her as a solo artist worldwide, earned five grammy awards and featured the billboard hot 100 number-one singles \"crazy in love\" and \"baby boy\".', 'question': 'what areas did beyonce compete in when she was growing up?', 'answer': 'singing and dancing'}, {'context': 'beyoncé giselle knowles-carter (/biːˈjɒnseɪ/ bee-yon-say) (born september 4, 1981) is an american singer, songwriter, record producer and actress. born and raised in houston, texas, she performed in various singing and dancing competitions as a child, and rose to fame in the late 1990s as lead singer of r&b girl-group destiny\\'s child. managed by her father, mathew knowles, the group became one of the world\\'s best-selling girl groups of all time. their hiatus saw the release of beyoncé\\'s debut album, dangerously in love (2003), which established her as a solo artist worldwide, earned five grammy awards and featured the billboard hot 100 number-one singles \"crazy in love\" and \"baby boy\".', 'question': \"when did beyonce leave destiny's child and become a solo singer?\", 'answer': '2003'}]\n"
     ]
    }
   ],
   "source": [
    "import re\n",
    "\n",
    "def clean_text(text):\n",
    "    text = text.lower().strip()\n",
    "    text = re.sub(r'\\s+', ' ', text)  # Remove extra whitespace\n",
    "    return text\n",
    "\n",
    "for item in train_data:\n",
    "    item[\"context\"] = clean_text(item[\"context\"])\n",
    "    item[\"question\"] = clean_text(item[\"question\"])\n",
    "    item[\"answer\"] = clean_text(item[\"answer\"])\n",
    "\n",
    "print(train_data[:3])"
   ]
  },
  {
   "cell_type": "code",
   "execution_count": 5,
   "metadata": {},
   "outputs": [],
   "source": [
    "import csv\n",
    "\n",
    "# Save as JSON\n",
    "with open(\"cleaned_squad_data.json\", \"w\", encoding='utf-8') as file:\n",
    "    json.dump(train_data, file, indent=2, ensure_ascii=False)\n",
    "\n",
    "# Save as CSV\n",
    "with open(\"cleaned_squad_data.csv\", \"w\", newline='', encoding='utf-8') as file:\n",
    "    writer = csv.DictWriter(file, fieldnames=[\"context\", \"question\", \"answer\"])\n",
    "    writer.writeheader()\n",
    "    for item in train_data:\n",
    "        writer.writerow(item)"
   ]
  },
  {
   "cell_type": "code",
   "execution_count": null,
   "metadata": {},
   "outputs": [],
   "source": []
  }
 ],
 "metadata": {
  "kernelspec": {
   "display_name": "Python 3",
   "language": "python",
   "name": "python3"
  },
  "language_info": {
   "codemirror_mode": {
    "name": "ipython",
    "version": 3
   },
   "file_extension": ".py",
   "mimetype": "text/x-python",
   "name": "python",
   "nbconvert_exporter": "python",
   "pygments_lexer": "ipython3",
   "version": "3.12.0"
  }
 },
 "nbformat": 4,
 "nbformat_minor": 2
}
